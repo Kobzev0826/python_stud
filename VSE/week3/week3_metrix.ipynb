{
 "cells": [
  {
   "cell_type": "code",
   "execution_count": 2,
   "metadata": {},
   "outputs": [],
   "source": [
    "import pandas\n",
    "import sklearn\n",
    "import numpy as np\n",
    "import itertools\n",
    "from itertools import product\n",
    "from sklearn.metrics import accuracy_score,confusion_matrix\n"
   ]
  },
  {
   "cell_type": "markdown",
   "metadata": {},
   "source": [
    "# Метрики и качество классификации"
   ]
  },
  {
   "cell_type": "markdown",
   "metadata": {},
   "source": [
    "Загрузите файл classification.csv. В нем записаны истинные классы объектов выборки (колонка true) и ответы некоторого классификатора (колонка pred)."
   ]
  },
  {
   "cell_type": "code",
   "execution_count": 3,
   "metadata": {},
   "outputs": [
    {
     "data": {
      "text/html": [
       "<div>\n",
       "<style scoped>\n",
       "    .dataframe tbody tr th:only-of-type {\n",
       "        vertical-align: middle;\n",
       "    }\n",
       "\n",
       "    .dataframe tbody tr th {\n",
       "        vertical-align: top;\n",
       "    }\n",
       "\n",
       "    .dataframe thead th {\n",
       "        text-align: right;\n",
       "    }\n",
       "</style>\n",
       "<table border=\"1\" class=\"dataframe\">\n",
       "  <thead>\n",
       "    <tr style=\"text-align: right;\">\n",
       "      <th></th>\n",
       "      <th>true</th>\n",
       "      <th>pred</th>\n",
       "    </tr>\n",
       "  </thead>\n",
       "  <tbody>\n",
       "    <tr>\n",
       "      <th>191</th>\n",
       "      <td>1</td>\n",
       "      <td>0</td>\n",
       "    </tr>\n",
       "    <tr>\n",
       "      <th>177</th>\n",
       "      <td>0</td>\n",
       "      <td>1</td>\n",
       "    </tr>\n",
       "    <tr>\n",
       "      <th>35</th>\n",
       "      <td>0</td>\n",
       "      <td>1</td>\n",
       "    </tr>\n",
       "    <tr>\n",
       "      <th>79</th>\n",
       "      <td>0</td>\n",
       "      <td>0</td>\n",
       "    </tr>\n",
       "    <tr>\n",
       "      <th>32</th>\n",
       "      <td>0</td>\n",
       "      <td>0</td>\n",
       "    </tr>\n",
       "  </tbody>\n",
       "</table>\n",
       "</div>"
      ],
      "text/plain": [
       "     true  pred\n",
       "191     1     0\n",
       "177     0     1\n",
       "35      0     1\n",
       "79      0     0\n",
       "32      0     0"
      ]
     },
     "execution_count": 3,
     "metadata": {},
     "output_type": "execute_result"
    }
   ],
   "source": [
    "data_classification = pandas.read_csv(r'classification.csv')\n",
    "len(data_classification)\n",
    "data_classification.sample(5)"
   ]
  },
  {
   "cell_type": "markdown",
   "metadata": {},
   "source": [
    "Заполните таблицу ошибок классификации:\n",
    "\n",
    "        Actual Positive\tActual Negative\n",
    "      Predicted Positive\tTP\tFP\n",
    "      Predicted Negative\tFN\tTN\n",
    "\n",
    "Для этого подсчитайте величины TP, FP, FN и TN согласно их определениям. Например, FP — это количество объектов, имеющих класс 0, но отнесенных алгоритмом к классу 1. Ответ в данном вопросе — четыре числа через пробел."
   ]
  },
  {
   "cell_type": "code",
   "execution_count": 4,
   "metadata": {},
   "outputs": [
    {
     "name": "stdout",
     "output_type": "stream",
     "text": [
      "(43, 59, 34, 64, array([[43, 34],\n",
      "       [59, 64]], dtype=int64))\n"
     ]
    }
   ],
   "source": [
    "TP=0\n",
    "FP=0\n",
    "FN=0\n",
    "TN=0\n",
    "Matrix=confusion_matrix(data_classification['true'],data_classification['pred'],labels=[1,0], sample_weight=None)\n",
    "#Matrix\n",
    "for i in range(len(data_classification.index)):\n",
    "    if data_classification['true'][i]==1:\n",
    "        if data_classification['true'][i]==data_classification['pred'][i]:\n",
    "            TP+=1\n",
    "        else: \n",
    "            FP=FP+1\n",
    "    else:\n",
    "        if data_classification['true'][i]==data_classification['pred'][i]:\n",
    "            TN+=1\n",
    "        else: \n",
    "            FN+=1\n",
    "print(TP,FP,FN,TN, Matrix.T)\n",
    "#data_classification['true'][1]        \n",
    "    "
   ]
  },
  {
   "cell_type": "markdown",
   "metadata": {},
   "source": [
    "Посчитайте основные метрики качества классификатора:\n",
    "\n",
    "    Accuracy (доля верно угаданных) — sklearn.metrics.accuracy_score\n",
    "    Precision (точность) — sklearn.metrics.precision_score\n",
    "    Recall (полнота) — sklearn.metrics.recall_score\n",
    "    F-мера — sklearn.metrics.f1_score\n"
   ]
  },
  {
   "cell_type": "markdown",
   "metadata": {},
   "source": [
    "$$accuracy = \\frac{TP + TN}{TP + TN + FP + FN}$$\n",
    "\n",
    "$$\\large precision = \\frac{TP}{TP + FP}$$\n",
    "\n",
    "$$\\large recall = \\frac{TP}{TP + FN}$$\n",
    "\n",
    "$$\\large \\ F_\\beta = (1 + \\beta^2) \\cdot \\frac{precision \\cdot recall}{(\\beta^2 \\cdot precision) + recall}$$"
   ]
  },
  {
   "cell_type": "code",
   "execution_count": 16,
   "metadata": {},
   "outputs": [
    {
     "name": "stdout",
     "output_type": "stream",
     "text": [
      "accuracy= 0.54\n",
      "precision= 0.56\n",
      "recall= 0.42\n"
     ]
    }
   ],
   "source": [
    "from __future__ import division #необходимо для полуения не целочисленного деления\n",
    "\n",
    "Metrix_M=Matrix.T\n",
    "TP=Metrix_M[0][0]\n",
    "FP=Metrix_M[0][1]\n",
    "FN=float(Metrix_M[1][0])\n",
    "TN=Metrix_M[1][1]\n",
    "#print(FP, Metrix_M)\n",
    "accuracy=(TP+TN)/(TP+TN+FP+FN)\n",
    "precision=float(TP/(TP+FP))\n",
    "recall=float(TP/(TP+FN))\n",
    "\n",
    "\n",
    "print('accuracy= %.2f' % round(accuracy,2))\n",
    "print('precision= %.2f' % round(precision,2))\n",
    "print('recall= %.2f' % round(recall,2))"
   ]
  },
  {
   "cell_type": "markdown",
   "metadata": {},
   "source": [
    "подсчет с помощью sklearn"
   ]
  },
  {
   "cell_type": "code",
   "execution_count": 21,
   "metadata": {},
   "outputs": [
    {
     "data": {
      "text/plain": [
       "0.48044692737430167"
      ]
     },
     "execution_count": 21,
     "metadata": {},
     "output_type": "execute_result"
    }
   ],
   "source": [
    "from sklearn.metrics import accuracy_score, precision_score, recall_score, f1_score\n",
    "DTrue=data_classification['true']\n",
    "Dpred=data_classification['pred']\n",
    "precision=precision_score(DTrue,Dpred)\n",
    "f1=f1_score(DTrue,Dpred)\n",
    "f1"
   ]
  },
  {
   "cell_type": "code",
   "execution_count": 22,
   "metadata": {},
   "outputs": [],
   "source": [
    "f=open('3.metrix.3.txt','w')\n",
    "f.write(\"{:0.2f} {:0.2f} {:0.2f} {:0.2f}\".format(accuracy, precision, recall, f1))\n",
    "f.close()"
   ]
  },
  {
   "cell_type": "markdown",
   "metadata": {},
   "source": [
    "------------------------"
   ]
  },
  {
   "cell_type": "markdown",
   "metadata": {},
   "source": [
    "4. Имеется четыре обученных классификатора. В файле scores.csv записаны истинные классы и значения степени принадлежности положительному классу для каждого классификатора на некоторой выборке:\n",
    "\n",
    "    - для логистической регрессии — вероятность положительного класса (колонка score_logreg),\n",
    "    \n",
    "    - для SVM — отступ от разделяющей поверхности (колонка score_svm),\n",
    "    \n",
    "    - для метрического алгоритма — взвешенная сумма классов соседей (колонка score_knn),\n",
    "    \n",
    "    - для решающего дерева — доля положительных объектов в листе (колонка score_tree).\n",
    "\n",
    "Загрузите этот файл."
   ]
  },
  {
   "cell_type": "code",
   "execution_count": 147,
   "metadata": {},
   "outputs": [
    {
     "data": {
      "text/html": [
       "<div>\n",
       "<style scoped>\n",
       "    .dataframe tbody tr th:only-of-type {\n",
       "        vertical-align: middle;\n",
       "    }\n",
       "\n",
       "    .dataframe tbody tr th {\n",
       "        vertical-align: top;\n",
       "    }\n",
       "\n",
       "    .dataframe thead th {\n",
       "        text-align: right;\n",
       "    }\n",
       "</style>\n",
       "<table border=\"1\" class=\"dataframe\">\n",
       "  <thead>\n",
       "    <tr style=\"text-align: right;\">\n",
       "      <th></th>\n",
       "      <th>true</th>\n",
       "      <th>score_logreg</th>\n",
       "      <th>score_svm</th>\n",
       "      <th>score_knn</th>\n",
       "      <th>score_tree</th>\n",
       "    </tr>\n",
       "  </thead>\n",
       "  <tbody>\n",
       "    <tr>\n",
       "      <th>0</th>\n",
       "      <td>0</td>\n",
       "      <td>0.683832</td>\n",
       "      <td>0.145976</td>\n",
       "      <td>0.787063</td>\n",
       "      <td>0.500000</td>\n",
       "    </tr>\n",
       "    <tr>\n",
       "      <th>1</th>\n",
       "      <td>1</td>\n",
       "      <td>0.801966</td>\n",
       "      <td>0.239511</td>\n",
       "      <td>1.000000</td>\n",
       "      <td>0.833333</td>\n",
       "    </tr>\n",
       "    <tr>\n",
       "      <th>2</th>\n",
       "      <td>0</td>\n",
       "      <td>0.382315</td>\n",
       "      <td>-0.245701</td>\n",
       "      <td>0.000000</td>\n",
       "      <td>0.000000</td>\n",
       "    </tr>\n",
       "    <tr>\n",
       "      <th>3</th>\n",
       "      <td>1</td>\n",
       "      <td>0.506797</td>\n",
       "      <td>-0.137058</td>\n",
       "      <td>0.000000</td>\n",
       "      <td>0.105263</td>\n",
       "    </tr>\n",
       "    <tr>\n",
       "      <th>4</th>\n",
       "      <td>1</td>\n",
       "      <td>0.488781</td>\n",
       "      <td>-0.154148</td>\n",
       "      <td>0.000000</td>\n",
       "      <td>0.105263</td>\n",
       "    </tr>\n",
       "  </tbody>\n",
       "</table>\n",
       "</div>"
      ],
      "text/plain": [
       "   true  score_logreg  score_svm  score_knn  score_tree\n",
       "0     0      0.683832   0.145976   0.787063    0.500000\n",
       "1     1      0.801966   0.239511   1.000000    0.833333\n",
       "2     0      0.382315  -0.245701   0.000000    0.000000\n",
       "3     1      0.506797  -0.137058   0.000000    0.105263\n",
       "4     1      0.488781  -0.154148   0.000000    0.105263"
      ]
     },
     "execution_count": 147,
     "metadata": {},
     "output_type": "execute_result"
    }
   ],
   "source": [
    "data_scores = pandas.read_csv(r'scores.csv',header=0)\n",
    "#data_score=data_scores[data_scores.columns[1:]]\n",
    "#data_scores=data_scores[1:]\n",
    "data_scores.head(5)"
   ]
  },
  {
   "cell_type": "markdown",
   "metadata": {},
   "source": [
    "5. Посчитайте площадь под ROC-кривой для каждого классификатора. Какой классификатор имеет наибольшее значение метрики AUC-ROC (укажите название столбца)? Воспользуйтесь функцией sklearn.metrics.roc_auc_score"
   ]
  },
  {
   "cell_type": "code",
   "execution_count": 112,
   "metadata": {},
   "outputs": [
    {
     "data": {
      "text/plain": [
       "0.6351540616246498"
      ]
     },
     "execution_count": 112,
     "metadata": {},
     "output_type": "execute_result"
    }
   ],
   "source": [
    "from sklearn.metrics import roc_auc_score\n",
    "y_true=data_scores['true']\n",
    "y_score_LogicRegression=data_scores['score_logreg']\n",
    "y_score_SVM=data_scores['score_svm']\n",
    "y_score_metric=data_scores['score_knn']\n",
    "y_score_tree=data_scores['score_tree']\n",
    "AUC_ROC_LogicRegression=roc_auc_score(y_true,y_score_metric)\n",
    "AUC_ROC_LogicRegression"
   ]
  },
  {
   "cell_type": "code",
   "execution_count": 134,
   "metadata": {},
   "outputs": [],
   "source": [
    "import numpy as np \n",
    "\n",
    "def rocscore (data_score,data_true):\n",
    "    a=np.zeros(shape=(len(data_scores.columns)-1,2))\n",
    "    for i in range(len(data_scores.columns)-1):\n",
    "        AUC_ROC=roc_auc_score(data_true,data_score[data_score.columns[i]])\n",
    "        a[i,0]=AUC_ROC\n",
    "        a[i,1]=i\n",
    "    a=a[np.argsort(a[:,-1])]\n",
    "    return a#.sort(key = lambda x: x[0])"
   ]
  },
  {
   "cell_type": "code",
   "execution_count": 148,
   "metadata": {},
   "outputs": [
    {
     "data": {
      "text/plain": [
       "array([[0.71918768, 0.        ],\n",
       "       [0.70868347, 1.        ],\n",
       "       [0.63515406, 2.        ],\n",
       "       [0.69192677, 3.        ]])"
      ]
     },
     "execution_count": 148,
     "metadata": {},
     "output_type": "execute_result"
    }
   ],
   "source": [
    "ROC_SC=rocscore(data_scores[data_scores.columns[1:]],data_scores[data_scores.columns[0]])\n",
    "#MAX_AUC_ROC=data_score[data_score.columns[ROC_SC[0,-1]]]\n",
    "#MAX_AUC_ROC\n",
    "ROC_SC"
   ]
  },
  {
   "cell_type": "code",
   "execution_count": 170,
   "metadata": {},
   "outputs": [
    {
     "data": {
      "text/plain": [
       "'score_logreg'"
      ]
     },
     "execution_count": 170,
     "metadata": {},
     "output_type": "execute_result"
    }
   ],
   "source": [
    "data_score = pandas.read_csv(r'scores.csv',header=None)\n",
    "Names=data_score[data_score.columns[1:]]\n",
    "Names=Names.iloc[0]\n",
    "#Names\n",
    "MAX_AUC_ROC=Names[int(ROC_SC[0,-1])+1]\n",
    "MAX_AUC_ROC"
   ]
  },
  {
   "cell_type": "code",
   "execution_count": 171,
   "metadata": {},
   "outputs": [],
   "source": [
    "f=open('3.metrix.4.txt','w')\n",
    "f.write(MAX_AUC_ROC)\n",
    "f.close()"
   ]
  },
  {
   "cell_type": "markdown",
   "metadata": {},
   "source": [
    "_______"
   ]
  },
  {
   "cell_type": "markdown",
   "metadata": {},
   "source": [
    "6. Какой классификатор достигает наибольшей точности (Precision) при полноте (Recall) не менее 70% ?\n",
    "\n",
    "Чтобы получить ответ на этот вопрос, найдите все точки precision-recall-кривой с помощью функции sklearn.metrics.precision_recall_curve. Она возвращает три массива: precision, recall, thresholds. В них записаны точность и полнота при определенных порогах, указанных в массиве thresholds. Найдите максимальной значение точности среди тех записей, для которых полнота не меньше, чем 0.7."
   ]
  },
  {
   "cell_type": "code",
   "execution_count": 173,
   "metadata": {},
   "outputs": [],
   "source": [
    "data= pandas.read_csv('scores.csv')"
   ]
  },
  {
   "cell_type": "code",
   "execution_count": 178,
   "metadata": {},
   "outputs": [
    {
     "name": "stdout",
     "output_type": "stream",
     "text": [
      "Какой классификатор достигает наибольшей точности\n",
      "                   0\n",
      "score_tree  0.651786\n",
      "-----\n"
     ]
    }
   ],
   "source": [
    "import pandas as pd\n",
    "from sklearn.metrics import accuracy_score\n",
    "from sklearn.metrics import precision_score\n",
    "from sklearn.metrics import recall_score\n",
    "from sklearn.metrics import f1_score\n",
    "from sklearn.metrics import roc_auc_score\n",
    "from sklearn.metrics import precision_recall_curve\n",
    "def CalculateThresholds(y_true,y_scores):\n",
    "    precision, recall, thresholds=precision_recall_curve(y_true,y_scores)\n",
    "    dt=pd.DataFrame(data=precision, columns=['precision'])#Создаем датафрейм\n",
    "    dt['recall']=recall#добавляем колонку\n",
    "    dt['precision_sel']=dt.apply(lambda x: 0 if x['recall']<0.7 else x['precision'],axis=1)#выкидываем лишние записи из точности по фильтру полноты\n",
    "    dt.sort_values(['precision_sel'], ascending=[False],inplace=True)#сортируем по точности\n",
    "    dt=dt.reset_index(drop=True)#реиндексируем\n",
    "    return dt.loc[0,'precision_sel']#выбираем максимум точности\n",
    "\n",
    "accuracy_values={}\n",
    "accuracy_values['score_logreg']=CalculateThresholds(y_true,data['score_logreg'].values)\n",
    "accuracy_values['score_svm']=CalculateThresholds(y_true,data['score_svm'].values)\n",
    "accuracy_values['score_knn']=CalculateThresholds(y_true,data['score_knn'].values)\n",
    "accuracy_values['score_tree']=CalculateThresholds(y_true,data['score_tree'].values)\n",
    "\n",
    "dt=pd.DataFrame(data=accuracy_values,index=[0]).transpose()\n",
    "dt.sort_values([0], ascending=[False],inplace=True)\n",
    "print('Какой классификатор достигает наибольшей точности')\n",
    "print(dt.head(1))\n",
    "print('-----')"
   ]
  },
  {
   "cell_type": "code",
   "execution_count": 190,
   "metadata": {},
   "outputs": [],
   "source": [
    "f=open('3.metrix.6.txt','w')\n",
    "f.write(dt.index[0])\n",
    "f.close()"
   ]
  }
 ],
 "metadata": {
  "kernelspec": {
   "display_name": "Python 2",
   "language": "python",
   "name": "python2"
  },
  "language_info": {
   "codemirror_mode": {
    "name": "ipython",
    "version": 2
   },
   "file_extension": ".py",
   "mimetype": "text/x-python",
   "name": "python",
   "nbconvert_exporter": "python",
   "pygments_lexer": "ipython2",
   "version": "2.7.16"
  }
 },
 "nbformat": 4,
 "nbformat_minor": 2
}
