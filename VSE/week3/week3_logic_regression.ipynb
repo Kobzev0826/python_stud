{
 "cells": [
  {
   "cell_type": "markdown",
   "metadata": {},
   "source": [
    "# Логистическая регрессия"
   ]
  },
  {
   "cell_type": "markdown",
   "metadata": {},
   "source": [
    "В этом задании мы предлагаем вам самостоятельно реализовать градиентный спуск.\n",
    "\n",
    "В качестве метрики качества будем использовать AUC-ROC (Area Under ROC-Curve). Она предназначена для алгоритмов бинарной классификации, выдающих оценку принадлежности объекта к одному из классов. По сути, значение этой метрики является агрегацией показателей качества всех алгоритмов, которые можно получить, выбирая какой-либо порог для оценки принадлежности.\n",
    "\n",
    "В Scikit-Learn метрика AUC реализована функцией sklearn.metrics.roc_auc_score. В качестве первого аргумента ей передается вектор истинных ответов, в качестве второго — вектор с оценками принадлежности объектов к первому классу."
   ]
  },
  {
   "cell_type": "markdown",
   "metadata": {},
   "source": [
    "### Инструкция по выполнению\n",
    "    1. Загрузите данные из файла data-logistic.csv. Это двумерная выборка, целевая переменная на которой принимает значения -1 или 1.\n",
    "    2. Убедитесь, что выше выписаны правильные формулы для градиентного спуска. Обратите внимание, что мы используем полноценный градиентный спуск, а не его стохастический вариант!\n",
    "    3. Реализуйте градиентный спуск для обычной и L2-регуляризованной (с коэффициентом регуляризации 10) логистической регрессии. Используйте длину шага k=0.1. В качестве начального приближения используйте вектор (0, 0).\n",
    "    4. Запустите градиентный спуск и доведите до сходимости (евклидово расстояние между векторами весов на соседних итерациях должно быть не больше 1e-5). Рекомендуется ограничить сверху число итераций десятью тысячами.\n",
    "    5. Какое значение принимает AUC-ROC на обучении без регуляризации и при ее использовании? Эти величины будут ответом на задание. В качестве ответа приведите два числа через пробел. Обратите внимание, что на вход функции roc_auc_score нужно подавать оценки вероятностей, подсчитанные обученным алгоритмом. Для этого воспользуйтесь сигмоидной функцией: a(x) = 1 / (1 + exp(-w1 x1 - w2 x2)).\n",
    "    6. Попробуйте поменять длину шага. Будет ли сходиться алгоритм, если делать более длинные шаги? Как меняется число итераций при уменьшении длины шага?\n",
    "    7. Попробуйте менять начальное приближение. Влияет ли оно на что-нибудь?"
   ]
  },
  {
   "cell_type": "code",
   "execution_count": 1,
   "metadata": {},
   "outputs": [],
   "source": [
    "import pandas\n",
    "import sklearn \n",
    "from sklearn.metrics import roc_auc_score"
   ]
  },
  {
   "cell_type": "markdown",
   "metadata": {},
   "source": [
    "1. Загрузите данные из файла data-logistic.csv. Это двумерная выборка, целевая переменная на которой принимает значения -1 или 1."
   ]
  },
  {
   "cell_type": "code",
   "execution_count": 70,
   "metadata": {},
   "outputs": [],
   "source": [
    "data = pandas.read_csv(r'data-logistic.csv',names=['Target','Sign1','Sign2'],index_col=False)\n",
    "X=data.loc[:,'Sign1':]\n",
    "y=data['Target']\n",
    "df=pandas.read_csv(r'data-logistic.csv',header=None)"
   ]
  },
  {
   "cell_type": "markdown",
   "metadata": {},
   "source": [
    "2. Убедитесь, что выше выписаны правильные формулы для градиентного спуска. Обратите внимание, что мы используем полноценный градиентный спуск, а не его стохастический вариант!"
   ]
  },
  {
   "cell_type": "code",
   "execution_count": 44,
   "metadata": {},
   "outputs": [],
   "source": [
    "def fw1(w1, w2, y, X, k, C):\n",
    "    l = len(y)\n",
    "    S = 0\n",
    "    for i in xrange(0, l):\n",
    "        S += y[i] * X['Sign1'][i] * (1.0 - 1.0 / (1.0 + math.exp(-y[i] * (w1*X['Sign1'][i] + w2*X['Sign2'][i]))))\n",
    "    R=w1 + (k * (1.0 / l) * S) - k * C * w1 \n",
    "    return R"
   ]
  },
  {
   "cell_type": "code",
   "execution_count": 45,
   "metadata": {},
   "outputs": [],
   "source": [
    "def fw2(w1, w2, y, X, k, C):\n",
    "    l = len(y)\n",
    "    S = 0\n",
    "    for i in xrange(0, l):\n",
    "        S += y[i] * X['Sign2'][i] * (1.0 - 1.0 / (1.0 + math.exp(-y[i] * (w1*X['Sign1'][i] + w2*X['Sign2'][i]))))\n",
    "    R = w2 + (k * (1.0 / l) * S) - k * C * w2 \n",
    "    return R"
   ]
  },
  {
   "cell_type": "code",
   "execution_count": 43,
   "metadata": {},
   "outputs": [
    {
     "data": {
      "text/plain": [
       "3.05393139864"
      ]
     },
     "execution_count": 43,
     "metadata": {},
     "output_type": "execute_result"
    }
   ],
   "source": [
    "C=0.0\n",
    "w1=0.0\n",
    "w2=0.0\n",
    "k=0.1\n",
    "#Test=fw2(w1, w2, y, X, k, C)\n",
    "len(y)#205\n",
    "X['Sign2'][200]"
   ]
  },
  {
   "cell_type": "markdown",
   "metadata": {},
   "source": [
    "3. Реализуйте градиентный спуск для обычной и L2-регуляризованной (с коэффициентом регуляризации 10) логистической регрессии. Используйте длину шага k=0.1. В качестве начального приближения используйте вектор (0, 0)."
   ]
  },
  {
   "cell_type": "code",
   "execution_count": 66,
   "metadata": {},
   "outputs": [],
   "source": [
    "import math\n",
    "def grad(y, X, C=0.0, w1=0.0, w2=0.0, k=0.1, err=1e-5):\n",
    "    i = 0\n",
    "    i_max = 10000\n",
    "    w1_new, w2_new = w1, w2\n",
    "\n",
    "    while True:\n",
    "        i += 1\n",
    "        w1_new, w2_new = fw1(w1, w2, y, X, k, C), fw2(w1, w2, y, X, k, C)\n",
    "        e = math.sqrt((w1_new - w1) ** 2 + (w2_new - w2) ** 2)\n",
    "\n",
    "        if i >= i_max or e <= err:\n",
    "            break\n",
    "        else:\n",
    "            w1, w2 = w1_new, w2_new\n",
    "\n",
    "    return [w1_new, w2_new]"
   ]
  },
  {
   "cell_type": "markdown",
   "metadata": {},
   "source": [
    "2 вариант функции"
   ]
  },
  {
   "cell_type": "code",
   "execution_count": 72,
   "metadata": {},
   "outputs": [],
   "source": [
    "def GradientDescent( C, data):\n",
    "    print('C=%d' % C)\n",
    "    errorAccuracy=10**-5\n",
    "    weights= [ 0.,0.]\n",
    "    k=0.1#длина шага\n",
    "    l= data[ 0].count()#количество элементов в выборке\n",
    "    distance_euclidean=0\n",
    "\n",
    "    weightsDelta=[0.,0.]\n",
    "    for step in range(10000):#Рекомендуется ограничить сверху число итераций десятью тысячами.\n",
    "        oldweightsDelta=weightsDelta\n",
    "        weightsDelta=[0.,0.]\n",
    "\n",
    "        for obj in data.values:\n",
    "            y=obj[0]\n",
    "            gradient=y*(1-1/(1+math.exp(-y*(weights[0]*obj[1]+weights[1]*obj[2]))))\n",
    "            weightsDelta=list(map(lambda w,wd,x: wd+x*gradient-k*C*w,weights,weightsDelta,obj[1:]))\n",
    "\n",
    "        #доведите до сходимости (евклидово расстояние между векторами весов на соседних итерациях должно быть не больше 1e-5)\n",
    "        distance_euclidean= distance.euclidean(weightsDelta, oldweightsDelta)\n",
    "        if distance_euclidean< errorAccuracy:\n",
    "            print('Дошли до заданной ошибки точности на шаге: %d' % step)\n",
    "            break\n",
    "\n",
    "        weights=list(map(lambda w,wd: w+wd*k/l,weights,weightsDelta))\n",
    "\n",
    "    print('Евклидово расстояние=%.6f' % distance_euclidean)\n",
    "    return weights"
   ]
  },
  {
   "cell_type": "markdown",
   "metadata": {},
   "source": [
    "-----------------------"
   ]
  },
  {
   "cell_type": "code",
   "execution_count": 75,
   "metadata": {},
   "outputs": [
    {
     "name": "stdout",
     "output_type": "stream",
     "text": [
      "C=0\n",
      "Дошли до заданной ошибки точности на шаге: 406\n",
      "Евклидово расстояние=0.000010\n"
     ]
    },
    {
     "data": {
      "text/plain": [
       "[0.2881020967218675, 0.09171473755090646]"
      ]
     },
     "execution_count": 75,
     "metadata": {},
     "output_type": "execute_result"
    }
   ],
   "source": [
    "from scipy.spatial  import distance\n",
    "from sklearn.metrics import roc_auc_score\n",
    "KK=GradientDescent(0,df)\n",
    "KK"
   ]
  },
  {
   "cell_type": "markdown",
   "metadata": {},
   "source": [
    "4. Запустите градиентный спуск и доведите до сходимости (евклидово расстояние между векторами весов на соседних итерациях должно быть не больше 1e-5). Рекомендуется ограничить сверху число итераций десятью тысячами."
   ]
  },
  {
   "cell_type": "code",
   "execution_count": 77,
   "metadata": {},
   "outputs": [
    {
     "name": "stdout",
     "output_type": "stream",
     "text": [
      "C=0\n",
      "Дошли до заданной ошибки точности на шаге: 406\n",
      "Евклидово расстояние=0.000010\n",
      "C=10\n",
      "Дошли до заданной ошибки точности на шаге: 85\n",
      "Евклидово расстояние=0.000010\n"
     ]
    }
   ],
   "source": [
    "w1, w2 = GradientDescent(0,df)\n",
    "rw1, rw2 = GradientDescent(10,df)"
   ]
  },
  {
   "cell_type": "markdown",
   "metadata": {},
   "source": [
    "5. Какое значение принимает AUC-ROC на обучении без регуляризации и при ее использовании? Эти величины будут ответом на задание. В качестве ответа приведите два числа через пробел. Обратите внимание, что на вход функции roc_auc_score нужно подавать оценки вероятностей, подсчитанные обученным алгоритмом. Для этого воспользуйтесь сигмоидной функцией: a(x) = 1 / (1 + exp(-w1 x1 - w2 x2))."
   ]
  },
  {
   "cell_type": "code",
   "execution_count": 78,
   "metadata": {},
   "outputs": [
    {
     "name": "stdout",
     "output_type": "stream",
     "text": [
      "(0.9267619047619047, 0.9370476190476189)\n"
     ]
    }
   ],
   "source": [
    "def sigm(X, w1, w2):\n",
    "    return 1.0 / (1.0 + math.exp(-w1 * X['Sign1'] - w2 * X['Sign2']))\n",
    " \n",
    " \n",
    "y_score = X.apply(lambda x: sigm(x, w1, w2), axis=1)\n",
    "y_rscore = X.apply(lambda x: sigm(x, rw1, rw2), axis=1)\n",
    " \n",
    "auc = roc_auc_score(y, y_score)\n",
    "rauc = roc_auc_score(y, y_rscore)\n",
    "\n",
    "print (auc, rauc)"
   ]
  },
  {
   "cell_type": "markdown",
   "metadata": {},
   "source": [
    "2 вариант функции"
   ]
  },
  {
   "cell_type": "code",
   "execution_count": 84,
   "metadata": {},
   "outputs": [
    {
     "name": "stdout",
     "output_type": "stream",
     "text": [
      "C=0\n",
      "Дошли до заданной ошибки точности на шаге: 406\n",
      "Евклидово расстояние=0.000010\n",
      "AUC_ROC=0.927\n",
      " - - - -\n",
      "C=2\n",
      "Дошли до заданной ошибки точности на шаге: 227\n",
      "Евклидово расстояние=0.000010\n",
      "AUC_ROC=0.934\n",
      " - - - -\n"
     ]
    },
    {
     "data": {
      "text/plain": [
       "[0.9267619047619047, 0.9337142857142856]"
      ]
     },
     "execution_count": 84,
     "metadata": {},
     "output_type": "execute_result"
    }
   ],
   "source": [
    "def GetAUC_ROC( C, data):\n",
    "    weights= GradientDescent( C, data)\n",
    "    y_true =  list(map( lambda y: 0  if y< 0  else 1 , data[ 0 ].values))#Класс объекта\n",
    "    X_train =  data.loc[:, 1:]#Характеристики объектов\n",
    "\n",
    "    y_scores= list(map( lambda x: 1  / ( 1  +  math.exp( - weights[ 0 ] * x[ 0 ] -  weights[ 1 ] * x[ 1 ])) , X_train.values))\n",
    "    aUC_ROC= roc_auc_score( y_true, y_scores)\n",
    "    print('AUC_ROC=%.3f' %  round( aUC_ROC, 3))\n",
    "    print( ' - - - -')\n",
    "    return  aUC_ROC\n",
    "\n",
    "#выводим ответ\n",
    "answ=[]\n",
    "answ.append( GetAUC_ROC( 0, df))\n",
    "answ.append( GetAUC_ROC( 2, df))\n",
    "answ"
   ]
  },
  {
   "cell_type": "markdown",
   "metadata": {},
   "source": [
    "запись в файл ответа"
   ]
  },
  {
   "cell_type": "code",
   "execution_count": 79,
   "metadata": {},
   "outputs": [],
   "source": [
    "file=open('3.logic_regression.txt','w')\n",
    "file.write(\"{:0.3f},{:0.3f}\".format(auc, rauc))\n",
    "file.close()"
   ]
  },
  {
   "cell_type": "markdown",
   "metadata": {},
   "source": [
    "  6. Попробуйте поменять длину шага. Будет ли сходиться алгоритм, если делать более длинные шаги? Как меняется число итераций при уменьшении длины шага?"
   ]
  },
  {
   "cell_type": "code",
   "execution_count": null,
   "metadata": {},
   "outputs": [],
   "source": []
  },
  {
   "cell_type": "markdown",
   "metadata": {},
   "source": [
    "7. Попробуйте менять начальное приближение. Влияет ли оно на что-нибудь?"
   ]
  },
  {
   "cell_type": "code",
   "execution_count": null,
   "metadata": {},
   "outputs": [],
   "source": []
  }
 ],
 "metadata": {
  "kernelspec": {
   "display_name": "Python 2",
   "language": "python",
   "name": "python2"
  },
  "language_info": {
   "codemirror_mode": {
    "name": "ipython",
    "version": 2
   },
   "file_extension": ".py",
   "mimetype": "text/x-python",
   "name": "python",
   "nbconvert_exporter": "python",
   "pygments_lexer": "ipython2",
   "version": "2.7.16"
  }
 },
 "nbformat": 4,
 "nbformat_minor": 2
}
